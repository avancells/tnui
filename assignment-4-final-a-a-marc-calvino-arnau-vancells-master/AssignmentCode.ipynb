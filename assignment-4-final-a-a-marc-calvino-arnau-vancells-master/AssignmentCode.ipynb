{
 "cells": [
  {
   "cell_type": "markdown",
   "metadata": {},
   "source": [
    "# Chatbot + Recomanació\n",
    "\n",
    "L'objectiu d'aquesta pràctica és força directe, volem recomanar a l'usuari noves `aisle_id` on anar a comprar quan ens ho demani.\n",
    "\n",
    "Es dóna tant un chatbot funcional com un recomanador basat en factorització de matrius, però si voleu podeu fer servir les vostres implementacions pròpies del chatbot i del recomanador basat en pagerank.\n",
    "\n",
    "Si feu servir el codi donat, llegiu les consideracions que trobareu més abaix"
   ]
  },
  {
   "cell_type": "code",
   "execution_count": 34,
   "metadata": {
    "collapsed": true
   },
   "outputs": [],
   "source": [
    "import zipfile\n",
    "import pandas as pd\n",
    "import numpy as np\n",
    "from os.path import join, dirname\n",
    "\n",
    "\n",
    "def locate(*path):\n",
    "    base = globals().get('__file__', '.')\n",
    "    return join(dirname(base), *path)\n",
    "\n",
    "def unzip(file):\n",
    "    zip_ref = zipfile.ZipFile(locate(file), 'r')\n",
    "    zip_ref.extractall(locate('data'))\n",
    "    zip_ref.close()\n",
    "\n",
    "unzip('order_products__train.csv.zip')\n",
    "unzip('orders.csv.zip')\n",
    "unzip('products.csv.zip')\n",
    "unzip('aisles.csv.zip')"
   ]
  },
  {
   "cell_type": "code",
   "execution_count": 35,
   "metadata": {
    "collapsed": true
   },
   "outputs": [],
   "source": [
    "df_order_prods = pd.read_csv(locate('data', 'order_products__train.csv'))\n",
    "df_orders = pd.read_csv(locate('data', 'orders.csv'))[['order_id', 'user_id']]\n",
    "df_prods = pd.read_csv(locate('data', 'products.csv'))[['product_id', 'aisle_id']]\n",
    "\n",
    "df_merged = pd.merge(pd.merge(df_order_prods, df_orders, on='order_id'), df_prods, on='product_id')\n",
    "counts = df_merged.groupby(['user_id', 'aisle_id']).size()\n",
    "df_counts = counts.unstack()"
   ]
  },
  {
   "cell_type": "code",
   "execution_count": 36,
   "metadata": {
    "collapsed": true
   },
   "outputs": [],
   "source": [
    "df_aisles = pd.read_csv(locate('data', 'aisles.csv'), index_col='aisle_id')"
   ]
  },
  {
   "cell_type": "code",
   "execution_count": 37,
   "metadata": {
    "scrolled": true
   },
   "outputs": [
    {
     "name": "stdout",
     "output_type": "stream",
     "text": [
      "                               aisle\n",
      "aisle_id                            \n",
      "1              prepared soups salads\n",
      "2                  specialty cheeses\n",
      "3                energy granola bars\n",
      "4                      instant foods\n",
      "5         marinades meat preparation\n"
     ]
    }
   ],
   "source": [
    "if __name__ == '__main__':\n",
    "    print(df_aisles.head())"
   ]
  },
  {
   "cell_type": "markdown",
   "metadata": {},
   "source": [
    "## Pràctica\n",
    "\n",
    "**Punt 1.** L'usuari solament ha de poder afegir productes que es trobin en el dataframe `df_aisles`, és a dir, el nom del producte s'ha de trobar en la columna `aisles` d'aquest dataframe\n",
    "\n",
    "**Punt 2.** Quan l'usuari enviï la comanda `/reco` i solament si es troba afegint productes (podeu cridar `user.is_adding()` per comprovar-ho), li heu de recomanar un nou producte que no tingui ja a la llista. Per fer-ho, els passos que seguirem seran els següents:\n",
    "\n",
    "1. Buscar a la base de dades (`df_counts`) la persona més semblant a l'usuari del bot. Això es pot fer de diverses maneres, per exemple, pots mirar quina persona té una distància més petita respecte l'usuari tenint en compte les compres, amb `np.linalg.norm(compres_persona_db - llista_usuari)`, o agant la que té la correlació de pearson més gran entre les seves compres i la de l'usuari (`scipy.stats.stats.pearsonr` o el mètode `corr` dels dataframes).\n",
    "\n",
    "Està clar, per fer això necessites la llista de productes afegits de l'usuari en funció de `aisle_id` (no el nostre `product_id`) i de la quantitat `qty`, pots obtenir-ho a partir de `user_info(user.id)['products']`.\n",
    "\n",
    "2. Un cop tens aquesta persona, calcula el seu `score` (ie. l'estimació de compra) per totes les `aisle_id` que l'usuari no hagi comprat encara.\n",
    "\n",
    "3. Envia un missatge a l'usuari amb el nom de la `aisle_id` que ha tret millor puntuació en el punt anterior i la puntuació arrodonida a l'enter més proper"
   ]
  },
  {
   "cell_type": "markdown",
   "metadata": {},
   "source": [
    "## Consideracions del recomanador\n",
    "\n",
    "El recomanador es dóna ja entrenat (arxius P.pkl i Q.pkl), però de forma ràpida i poc fiable. Podeu obtenir la recomanació d'un usuari de la base de dades (df_counts) per a un item (aisle_id) donat amb el mètode `estimate(usuari, item)`."
   ]
  },
  {
   "cell_type": "code",
   "execution_count": 38,
   "metadata": {},
   "outputs": [
    {
     "data": {
      "text/plain": [
       "4.9759486763891934"
      ]
     },
     "execution_count": 38,
     "metadata": {},
     "output_type": "execute_result"
    }
   ],
   "source": [
    "from recommender import NMFRecommender\n",
    "\n",
    "reco = NMFRecommender(df_counts, 3, 10)\n",
    "reco.factorize()\n",
    "reco.estimate(1, 2)"
   ]
  },
  {
   "cell_type": "markdown",
   "metadata": {},
   "source": [
    "## Consideracions del chatbot\n",
    "\n",
    "* No teniu accés directe al codi del bot, treballareu a partir de funcions \"callback\", és a dir, quan el bot detecta un event cridarà les vostres funcions. Les funcions, totes elles, tenen un dos paràmetres en comú:\n",
    "    * `bot`: Objecte DelegatorBot de Telepot\n",
    "    * `user`: Objecte ShoppingUser\n",
    "    \n",
    "Les funcions que es cridaran a mode de callback són:\n",
    "\n",
    "* Quan es rep una comanda, és a dir un missatge que comença per /, es cridarà `on_cmd(bot, user, cmd)`. El paràmetre `cmd` conté la comanda enviada per l'usuari\n",
    "* Quan s'afegeix un producte, es crida `on_add(bot, user, product_id, qty)`, on `product_id` indica el nom del producte i `qty` la quantitat comprada. Si aquesta funció retorna True o None, l'item s'afegirà a l'usuari, però si retorna False **no** s'afegirà.\n",
    "* Quan es marca un producte com a comprat (si encara no estava comprat), es crida `on_flag(bot, user, product_id)`\n",
    "* Quan s'acaben de comprar tots els productes, i solament 1 cop per interacció, es crida `on_end(bot, user)`\n",
    "\n",
    "**Els productes de l'usuari ja no són una llista de productes, sinó diccionari de productes**:\n",
    "\n",
    "```python\n",
    "{\n",
    "    ...\n",
    "    'products': {\n",
    "        'product_id_1': {\n",
    "            'status': 0/1,\n",
    "            'qty': <int>\n",
    "        },\n",
    "        ...\n",
    "        'product_id_n': {\n",
    "            'status': 0/1,\n",
    "            'qty': <int>\n",
    "        },\n",
    "    }\n",
    "    ...\n",
    "}\n",
    "```"
   ]
  },
  {
   "cell_type": "code",
   "execution_count": 62,
   "metadata": {},
   "outputs": [],
   "source": [
    "import numpy as np\n",
    "from recommender import NMFRecommender\n",
    "\n",
    "# we initialize the recommender\n",
    "reco = NMFRecommender(df_counts, 3, 10)\n",
    "reco.factorize()\n",
    "\n",
    "async def on_cmd(bot, user, cmd):\n",
    "    if cmd == '/start':\n",
    "        await bot.sendPhoto(user.id, open('img/hello.jpg', 'rb'))\n",
    "    elif cmd == '/done':\n",
    "        await user.sender.sendMessage('Let\\'s go')\n",
    "    elif cmd == '/reco':\n",
    "        if user.is_adding():\n",
    "            # we first create  a vector with zeros to fill with the new user values        \n",
    "            u2 = np.zeros(df_counts.shape[1])\n",
    "            # we save the user information in a variable to reduce the calls to user_info()\n",
    "            user_i = user_info(user.id)\n",
    "            \n",
    "            # this counter will be used to determine which aisle are whe at while itering\n",
    "            i = 0\n",
    "            # we transform the user information products keys to a list\n",
    "            prod = list(user_i['products'].keys())\n",
    "            # for each aisle in our df aisles dataframe\n",
    "            for aisle in df_aisles.values.tolist():\n",
    "                # if the aisle is in our user products list\n",
    "                if aisle[0] in prod:\n",
    "                    # we set the value to the new vector we are creating\n",
    "                    u2[i] = user_i['products'][aisle[0]]['qty']\n",
    "                i += 1\n",
    "            # now we create a matrix with the same size as our user database\n",
    "            # and we fill it with the values we obtained from the new user\n",
    "            M_u2 = np.full((df_counts.shape[0],df_counts.shape[1]),u2)\n",
    "            # with this matrix we calculate the norm between both matrices (in the row axis) to\n",
    "            # determine which user from our database is closer to the new user\n",
    "            calculated_norm = np.linalg.norm(df_counts.fillna(0).as_matrix() - M_u2,axis=1)\n",
    "            # we obtain the position of the closer user and using iloc we get the id of the user in our dataframe\n",
    "            recommended_user = df_counts.iloc[np.argmin(calculated_norm)].name\n",
    "            # we create a list to fill with the values from the recommender\n",
    "            recommended_values = []\n",
    "            # for each aisle \n",
    "            for i in range(df_counts.shape[1]):\n",
    "                # if the product isnt already bought\n",
    "                if df_aisles.iloc[i-1].values[0] not in list(user_i['products'].keys()):\n",
    "                    # we add the tuple (value, aisle_id)\n",
    "                    recommended_values.append((reco.estimate(recommended_user, i),i)) \n",
    "            # if the recommended values is not empty\n",
    "            if len(recommended_values):\n",
    "                max_value = max(recommended_values)\n",
    "                # we get the recommended aisle using the maximum value from the recommendations\n",
    "                recommended_aisle = df_aisles.loc[max_value[1]]\n",
    "                # we send a message to the user, with the recommended aisle and recommended quantity\n",
    "                await user.sender.sendMessage(\"I'd recommend you to buy \"+str(int(max_value[0]))+\" products from: \\n ---> \" \n",
    "                                              + recommended_aisle.values[0] + \" <---\")\n",
    "            # if we can't recommend anything\n",
    "            else:\n",
    "                # we better thank the user to buy everything we have!\n",
    "                await user.sender.sendMessage(\"I honestly can't recommend you anything you haven't bought already.\\n\"+\n",
    "                                             \"...\\n\"+ \n",
    "                                              \"Though, I'm happy you have bought all the things we have to offer. Thank you <3\")\n",
    "            #print for debug purposes\n",
    "            print(recommended_user, list(user_i['products'].keys()), (max(recommended_values)))\n",
    "        \n",
    "        \n",
    "        else:\n",
    "            await user.sender.sendMessage(\"I'd recommend you to pay your products first, before asking me \" \n",
    "                                          +\"to recommend you what to buy ;)\")\n",
    "    # extra command, not relevant for the assignment\n",
    "    elif cmd == '/sad':\n",
    "            await user.sender.sendMessage('I was programmed for an assignment due the day before christmas :(')\n",
    "            await bot.sendPhoto(user.id, open('img/christmas.jpg', 'rb'))\n",
    "   \n",
    "    \n",
    "async def on_add(bot, user, product_id, qty):    \n",
    "    if product_id in df_aisles['aisle'].tolist():\n",
    "        return True\n",
    "    else:\n",
    "        return False\n",
    "    \n",
    "async def on_flag(bot, user, product_id):\n",
    "    pass\n",
    "    \n",
    "async def on_end(bot, user):\n",
    "    await bot.sendPhoto(user.id, open('img/done.png', 'rb'))\n",
    "    pass"
   ]
  },
  {
   "cell_type": "code",
   "execution_count": 63,
   "metadata": {
    "scrolled": false
   },
   "outputs": [
    {
     "ename": "KeyboardInterrupt",
     "evalue": "",
     "output_type": "error",
     "traceback": [
      "\u001b[1;31m---------------------------------------------------------------------------\u001b[0m",
      "\u001b[1;31mKeyboardInterrupt\u001b[0m                         Traceback (most recent call last)",
      "\u001b[1;32m<ipython-input-63-5d336e8afdb0>\u001b[0m in \u001b[0;36m<module>\u001b[1;34m()\u001b[0m\n\u001b[0;32m     10\u001b[0m \u001b[1;33m\u001b[0m\u001b[0m\n\u001b[0;32m     11\u001b[0m         \u001b[1;31m# Start bot\u001b[0m\u001b[1;33m\u001b[0m\u001b[1;33m\u001b[0m\u001b[0m\n\u001b[1;32m---> 12\u001b[1;33m         \u001b[0mbot\u001b[0m\u001b[1;33m.\u001b[0m\u001b[0mstart\u001b[0m\u001b[1;33m(\u001b[0m\u001b[0mopen\u001b[0m\u001b[1;33m(\u001b[0m\u001b[1;34m'TOKEN'\u001b[0m\u001b[1;33m)\u001b[0m\u001b[1;33m.\u001b[0m\u001b[0mread\u001b[0m\u001b[1;33m(\u001b[0m\u001b[1;33m)\u001b[0m\u001b[1;33m.\u001b[0m\u001b[0mstrip\u001b[0m\u001b[1;33m(\u001b[0m\u001b[1;33m)\u001b[0m\u001b[1;33m)\u001b[0m\u001b[1;33m\u001b[0m\u001b[0m\n\u001b[0m",
      "\u001b[1;32m~\\Documents\\GitHub\\assignment-4-final-a-a-marc-calvino-arnau-vancells\\bot.py\u001b[0m in \u001b[0;36mstart\u001b[1;34m(self, token)\u001b[0m\n\u001b[0;32m     57\u001b[0m         \u001b[0mself\u001b[0m\u001b[1;33m.\u001b[0m\u001b[0mmsg_loop\u001b[0m \u001b[1;33m=\u001b[0m \u001b[0mMessageLoop\u001b[0m\u001b[1;33m(\u001b[0m\u001b[0mself\u001b[0m\u001b[1;33m.\u001b[0m\u001b[0mbot\u001b[0m\u001b[1;33m)\u001b[0m\u001b[1;33m\u001b[0m\u001b[0m\n\u001b[0;32m     58\u001b[0m         \u001b[0mself\u001b[0m\u001b[1;33m.\u001b[0m\u001b[0mloop\u001b[0m\u001b[1;33m.\u001b[0m\u001b[0mcreate_task\u001b[0m\u001b[1;33m(\u001b[0m\u001b[0mself\u001b[0m\u001b[1;33m.\u001b[0m\u001b[0mmsg_loop\u001b[0m\u001b[1;33m.\u001b[0m\u001b[0mrun_forever\u001b[0m\u001b[1;33m(\u001b[0m\u001b[1;33m)\u001b[0m\u001b[1;33m)\u001b[0m\u001b[1;33m\u001b[0m\u001b[0m\n\u001b[1;32m---> 59\u001b[1;33m         \u001b[0mself\u001b[0m\u001b[1;33m.\u001b[0m\u001b[0mloop\u001b[0m\u001b[1;33m.\u001b[0m\u001b[0mrun_forever\u001b[0m\u001b[1;33m(\u001b[0m\u001b[1;33m)\u001b[0m\u001b[1;33m\u001b[0m\u001b[0m\n\u001b[0m\u001b[0;32m     60\u001b[0m \u001b[1;33m\u001b[0m\u001b[0m\n\u001b[0;32m     61\u001b[0m     \u001b[1;32mdef\u001b[0m \u001b[0mstop\u001b[0m\u001b[1;33m(\u001b[0m\u001b[0mself\u001b[0m\u001b[1;33m)\u001b[0m\u001b[1;33m:\u001b[0m\u001b[1;33m\u001b[0m\u001b[0m\n",
      "\u001b[1;32m~\\Anaconda3\\lib\\asyncio\\base_events.py\u001b[0m in \u001b[0;36mrun_forever\u001b[1;34m(self)\u001b[0m\n\u001b[0;32m    419\u001b[0m             \u001b[0mevents\u001b[0m\u001b[1;33m.\u001b[0m\u001b[0m_set_running_loop\u001b[0m\u001b[1;33m(\u001b[0m\u001b[0mself\u001b[0m\u001b[1;33m)\u001b[0m\u001b[1;33m\u001b[0m\u001b[0m\n\u001b[0;32m    420\u001b[0m             \u001b[1;32mwhile\u001b[0m \u001b[1;32mTrue\u001b[0m\u001b[1;33m:\u001b[0m\u001b[1;33m\u001b[0m\u001b[0m\n\u001b[1;32m--> 421\u001b[1;33m                 \u001b[0mself\u001b[0m\u001b[1;33m.\u001b[0m\u001b[0m_run_once\u001b[0m\u001b[1;33m(\u001b[0m\u001b[1;33m)\u001b[0m\u001b[1;33m\u001b[0m\u001b[0m\n\u001b[0m\u001b[0;32m    422\u001b[0m                 \u001b[1;32mif\u001b[0m \u001b[0mself\u001b[0m\u001b[1;33m.\u001b[0m\u001b[0m_stopping\u001b[0m\u001b[1;33m:\u001b[0m\u001b[1;33m\u001b[0m\u001b[0m\n\u001b[0;32m    423\u001b[0m                     \u001b[1;32mbreak\u001b[0m\u001b[1;33m\u001b[0m\u001b[0m\n",
      "\u001b[1;32m~\\Anaconda3\\lib\\asyncio\\base_events.py\u001b[0m in \u001b[0;36m_run_once\u001b[1;34m(self)\u001b[0m\n\u001b[0;32m   1388\u001b[0m                            timeout * 1e3, dt * 1e3)\n\u001b[0;32m   1389\u001b[0m         \u001b[1;32melse\u001b[0m\u001b[1;33m:\u001b[0m\u001b[1;33m\u001b[0m\u001b[0m\n\u001b[1;32m-> 1390\u001b[1;33m             \u001b[0mevent_list\u001b[0m \u001b[1;33m=\u001b[0m \u001b[0mself\u001b[0m\u001b[1;33m.\u001b[0m\u001b[0m_selector\u001b[0m\u001b[1;33m.\u001b[0m\u001b[0mselect\u001b[0m\u001b[1;33m(\u001b[0m\u001b[0mtimeout\u001b[0m\u001b[1;33m)\u001b[0m\u001b[1;33m\u001b[0m\u001b[0m\n\u001b[0m\u001b[0;32m   1391\u001b[0m         \u001b[0mself\u001b[0m\u001b[1;33m.\u001b[0m\u001b[0m_process_events\u001b[0m\u001b[1;33m(\u001b[0m\u001b[0mevent_list\u001b[0m\u001b[1;33m)\u001b[0m\u001b[1;33m\u001b[0m\u001b[0m\n\u001b[0;32m   1392\u001b[0m \u001b[1;33m\u001b[0m\u001b[0m\n",
      "\u001b[1;32m~\\Anaconda3\\lib\\selectors.py\u001b[0m in \u001b[0;36mselect\u001b[1;34m(self, timeout)\u001b[0m\n\u001b[0;32m    321\u001b[0m         \u001b[0mready\u001b[0m \u001b[1;33m=\u001b[0m \u001b[1;33m[\u001b[0m\u001b[1;33m]\u001b[0m\u001b[1;33m\u001b[0m\u001b[0m\n\u001b[0;32m    322\u001b[0m         \u001b[1;32mtry\u001b[0m\u001b[1;33m:\u001b[0m\u001b[1;33m\u001b[0m\u001b[0m\n\u001b[1;32m--> 323\u001b[1;33m             \u001b[0mr\u001b[0m\u001b[1;33m,\u001b[0m \u001b[0mw\u001b[0m\u001b[1;33m,\u001b[0m \u001b[0m_\u001b[0m \u001b[1;33m=\u001b[0m \u001b[0mself\u001b[0m\u001b[1;33m.\u001b[0m\u001b[0m_select\u001b[0m\u001b[1;33m(\u001b[0m\u001b[0mself\u001b[0m\u001b[1;33m.\u001b[0m\u001b[0m_readers\u001b[0m\u001b[1;33m,\u001b[0m \u001b[0mself\u001b[0m\u001b[1;33m.\u001b[0m\u001b[0m_writers\u001b[0m\u001b[1;33m,\u001b[0m \u001b[1;33m[\u001b[0m\u001b[1;33m]\u001b[0m\u001b[1;33m,\u001b[0m \u001b[0mtimeout\u001b[0m\u001b[1;33m)\u001b[0m\u001b[1;33m\u001b[0m\u001b[0m\n\u001b[0m\u001b[0;32m    324\u001b[0m         \u001b[1;32mexcept\u001b[0m \u001b[0mInterruptedError\u001b[0m\u001b[1;33m:\u001b[0m\u001b[1;33m\u001b[0m\u001b[0m\n\u001b[0;32m    325\u001b[0m             \u001b[1;32mreturn\u001b[0m \u001b[0mready\u001b[0m\u001b[1;33m\u001b[0m\u001b[0m\n",
      "\u001b[1;32m~\\Anaconda3\\lib\\selectors.py\u001b[0m in \u001b[0;36m_select\u001b[1;34m(self, r, w, _, timeout)\u001b[0m\n\u001b[0;32m    312\u001b[0m     \u001b[1;32mif\u001b[0m \u001b[0msys\u001b[0m\u001b[1;33m.\u001b[0m\u001b[0mplatform\u001b[0m \u001b[1;33m==\u001b[0m \u001b[1;34m'win32'\u001b[0m\u001b[1;33m:\u001b[0m\u001b[1;33m\u001b[0m\u001b[0m\n\u001b[0;32m    313\u001b[0m         \u001b[1;32mdef\u001b[0m \u001b[0m_select\u001b[0m\u001b[1;33m(\u001b[0m\u001b[0mself\u001b[0m\u001b[1;33m,\u001b[0m \u001b[0mr\u001b[0m\u001b[1;33m,\u001b[0m \u001b[0mw\u001b[0m\u001b[1;33m,\u001b[0m \u001b[0m_\u001b[0m\u001b[1;33m,\u001b[0m \u001b[0mtimeout\u001b[0m\u001b[1;33m=\u001b[0m\u001b[1;32mNone\u001b[0m\u001b[1;33m)\u001b[0m\u001b[1;33m:\u001b[0m\u001b[1;33m\u001b[0m\u001b[0m\n\u001b[1;32m--> 314\u001b[1;33m             \u001b[0mr\u001b[0m\u001b[1;33m,\u001b[0m \u001b[0mw\u001b[0m\u001b[1;33m,\u001b[0m \u001b[0mx\u001b[0m \u001b[1;33m=\u001b[0m \u001b[0mselect\u001b[0m\u001b[1;33m.\u001b[0m\u001b[0mselect\u001b[0m\u001b[1;33m(\u001b[0m\u001b[0mr\u001b[0m\u001b[1;33m,\u001b[0m \u001b[0mw\u001b[0m\u001b[1;33m,\u001b[0m \u001b[0mw\u001b[0m\u001b[1;33m,\u001b[0m \u001b[0mtimeout\u001b[0m\u001b[1;33m)\u001b[0m\u001b[1;33m\u001b[0m\u001b[0m\n\u001b[0m\u001b[0;32m    315\u001b[0m             \u001b[1;32mreturn\u001b[0m \u001b[0mr\u001b[0m\u001b[1;33m,\u001b[0m \u001b[0mw\u001b[0m \u001b[1;33m+\u001b[0m \u001b[0mx\u001b[0m\u001b[1;33m,\u001b[0m \u001b[1;33m[\u001b[0m\u001b[1;33m]\u001b[0m\u001b[1;33m\u001b[0m\u001b[0m\n\u001b[0;32m    316\u001b[0m     \u001b[1;32melse\u001b[0m\u001b[1;33m:\u001b[0m\u001b[1;33m\u001b[0m\u001b[0m\n",
      "\u001b[1;31mKeyboardInterrupt\u001b[0m: "
     ]
    }
   ],
   "source": [
    "if __name__ == '__main__':\n",
    "    from bot import ShoppingBot, user_info\n",
    "    \n",
    "    with ShoppingBot() as bot:\n",
    "        # Setup callbacks\n",
    "        bot.add_callback('cmd', on_cmd)\n",
    "        bot.add_callback('add-product', on_add)\n",
    "        bot.add_callback('flag-product', on_flag)\n",
    "        bot.add_callback('end', on_end)\n",
    "        \n",
    "        # Start bot\n",
    "        bot.start(open('TOKEN').read().strip())"
   ]
  },
  {
   "cell_type": "code",
   "execution_count": null,
   "metadata": {
    "collapsed": true
   },
   "outputs": [],
   "source": []
  }
 ],
 "metadata": {
  "kernelspec": {
   "display_name": "Python 3",
   "language": "python",
   "name": "python3"
  },
  "language_info": {
   "codemirror_mode": {
    "name": "ipython",
    "version": 3
   },
   "file_extension": ".py",
   "mimetype": "text/x-python",
   "name": "python",
   "nbconvert_exporter": "python",
   "pygments_lexer": "ipython3",
   "version": "3.6.2"
  }
 },
 "nbformat": 4,
 "nbformat_minor": 2
}
